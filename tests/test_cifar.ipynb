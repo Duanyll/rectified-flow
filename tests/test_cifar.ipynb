{
 "cells": [
  {
   "cell_type": "code",
   "execution_count": null,
   "metadata": {},
   "outputs": [],
   "source": [
    "import torch\n",
    "import matplotlib.pyplot as plt\n",
    "\n",
    "from rectified_flow.flow_components import utils\n",
    "from rectified_flow.models.dit import DiT\n",
    "from rectified_flow.rectified_flow import RectifiedFlow\n",
    "\n",
    "utils.set_seed(0)\n",
    "device = torch.device('cuda' if torch.cuda.is_available() else 'cpu')"
   ]
  },
  {
   "cell_type": "code",
   "execution_count": null,
   "metadata": {},
   "outputs": [],
   "source": [
    "dit = DiT.from_pretrained(\"PATH_TO_MODEL\", \"dit\", True).to(device)"
   ]
  },
  {
   "cell_type": "code",
   "execution_count": null,
   "metadata": {},
   "outputs": [],
   "source": [
    "rf_func = RectifiedFlow(\n",
    "    data_shape=(3, 32, 32),\n",
    "    model=dit,\n",
    "    device=device,\n",
    ")"
   ]
  },
  {
   "cell_type": "code",
   "execution_count": null,
   "metadata": {},
   "outputs": [],
   "source": [
    "from rectified_flow.samplers import rf_samplers_dict\n",
    "\n",
    "X_0 = torch.randn(130, 3, 32, 32, device=device)\n",
    "\n",
    "euler_sampler = rf_samplers_dict[\"euler\"](\n",
    "    rectified_flow=rf_func,\n",
    "    num_steps=100,\n",
    "    num_samples=130,\n",
    ")\n",
    "\n",
    "euler_sampler.sample_loop(X_0=X_0)"
   ]
  },
  {
   "cell_type": "code",
   "execution_count": null,
   "metadata": {},
   "outputs": [],
   "source": [
    "traj = euler_sampler.trajectories\n",
    "print(len(traj))\n",
    "X_1 = traj[-1]\n",
    "print(X_1.shape)\n",
    "\n",
    "utils.plot_cifar_results(X_1)"
   ]
  },
  {
   "cell_type": "code",
   "execution_count": null,
   "metadata": {},
   "outputs": [],
   "source": [
    "from scipy.integrate import solve_ivp\n",
    "\n",
    "@torch.inference_mode()\n",
    "def rk45(f, z0, startT=0., endT=1.0):\n",
    "    def f_np(t, z, func, shape):\n",
    "        z_tensor = torch.tensor(z, dtype=torch.float32, device=device).reshape(shape)\n",
    "        t_tensor = t * torch.ones(shape[0], device=device)\n",
    "        dz_tensor = func(z_tensor, t_tensor)   # Dit expects X_t of (B, C, H, W), and t of (B,)\n",
    "        return dz_tensor.detach().cpu().numpy().reshape((-1,))\n",
    "    \n",
    "    shape = z0.shape\n",
    "    z0_np = z0.cpu().numpy().flatten()\n",
    "    t_span = (startT, endT)\n",
    "    sol = solve_ivp(f_np, t_span, z0_np, args=(f, shape), method='RK45', t_eval=None, rtol=1e-3, atol=1e-3)\n",
    "    z_final_np = sol.y[:, -1]\n",
    "    nfe = sol.nfev\n",
    "    print(f\"Number of function evaluations: {nfe}\")\n",
    "    z_final = torch.tensor(z_final_np, dtype=torch.float32, device=device).reshape(shape)\n",
    "    \n",
    "    return z_final\n",
    "\n",
    "X_0 = euler_sampler.X_0.clone()\n",
    "X_1 = rk45(dit, X_0)\n",
    "utils.plot_cifar_results(X_1)"
   ]
  }
 ],
 "metadata": {
  "kernelspec": {
   "display_name": "base",
   "language": "python",
   "name": "python3"
  },
  "language_info": {
   "codemirror_mode": {
    "name": "ipython",
    "version": 3
   },
   "file_extension": ".py",
   "mimetype": "text/x-python",
   "name": "python",
   "nbconvert_exporter": "python",
   "pygments_lexer": "ipython3",
   "version": "3.12.3"
  }
 },
 "nbformat": 4,
 "nbformat_minor": 4
}
