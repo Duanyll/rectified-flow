{
 "cells": [
  {
   "cell_type": "code",
   "execution_count": null,
   "metadata": {},
   "outputs": [],
   "source": [
    "%cd .."
   ]
  },
  {
   "cell_type": "code",
   "execution_count": null,
   "metadata": {},
   "outputs": [],
   "source": [
    "import torch\n",
    "import torchvision\n",
    "from torchvision import transforms\n",
    "\n",
    "from rectified_flow.models.gauss_analytic import AnalyticGaussianVelocity\n",
    "from rectified_flow.flow_components.interpolation_solver import AffineInterp\n",
    "from rectified_flow.rectified_flow import RectifiedFlow\n",
    "from rectified_flow.utils import plot_cifar_results\n",
    "\n",
    "device = torch.device(\"cuda\" if torch.cuda.is_available() else \"cpu\")"
   ]
  },
  {
   "cell_type": "code",
   "execution_count": null,
   "metadata": {},
   "outputs": [],
   "source": [
    "transform = transforms.Compose([\n",
    "\ttransforms.ToTensor(),\n",
    "\ttransforms.Normalize(mean=[0.5, 0.5, 0.5], std=[0.5, 0.5, 0.5], inplace=True)\n",
    "])\n",
    "dataset = torchvision.datasets.CIFAR10(root=\"/root/autodl-tmp/cifar10\", transform=transform, download=False)\n",
    "trainloader = torch.utils.data.DataLoader(dataset, batch_size=50000, shuffle=False)  \n",
    "data_iter = iter(trainloader)\n",
    "images, labels = next(data_iter)\n",
    "\n",
    "images = images.to(device)\n",
    "images = images.reshape(images.shape[0], -1)\n",
    "print(images.shape)"
   ]
  },
  {
   "cell_type": "code",
   "execution_count": null,
   "metadata": {},
   "outputs": [],
   "source": [
    "interp = AffineInterp(\"ddim\")\n",
    "\n",
    "model = AnalyticGaussianVelocity(images, interp)\n",
    "\n",
    "rf_func = RectifiedFlow(\n",
    "    data_shape=(3*32*32,),\n",
    "    model=model,\n",
    "    interp=interp,\n",
    "    device=device,\n",
    ")"
   ]
  },
  {
   "cell_type": "code",
   "execution_count": null,
   "metadata": {},
   "outputs": [],
   "source": [
    "from rectified_flow.samplers import EulerSampler\n",
    "\n",
    "sampler = EulerSampler(\n",
    "    rectified_flow=rf_func,\n",
    "    num_steps=100,\n",
    ")"
   ]
  },
  {
   "cell_type": "code",
   "execution_count": null,
   "metadata": {},
   "outputs": [],
   "source": [
    "sampler.sample_loop(130, seed=0)"
   ]
  },
  {
   "cell_type": "code",
   "execution_count": null,
   "metadata": {},
   "outputs": [],
   "source": [
    "X_1 = sampler.trajectories[-1]\n",
    "\n",
    "X_1 = X_1.reshape(-1, 3, 32, 32)\n",
    "\n",
    "plot_cifar_results(X_1)"
   ]
  }
 ],
 "metadata": {
  "kernelspec": {
   "display_name": "base",
   "language": "python",
   "name": "python3"
  },
  "language_info": {
   "codemirror_mode": {
    "name": "ipython",
    "version": 3
   },
   "file_extension": ".py",
   "mimetype": "text/x-python",
   "name": "python",
   "nbconvert_exporter": "python",
   "pygments_lexer": "ipython3",
   "version": "3.12.3"
  }
 },
 "nbformat": 4,
 "nbformat_minor": 2
}
