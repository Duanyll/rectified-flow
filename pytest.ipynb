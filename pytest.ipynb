{
 "cells": [
  {
   "cell_type": "code",
   "execution_count": 1,
   "metadata": {},
   "outputs": [],
   "source": [
    "import torch\n",
    "from rectified_flow.rectified_flow import AffineInterp, match_dim_with_data\n",
    "\n",
    "device = torch.device(\"cuda\")"
   ]
  },
  {
   "cell_type": "markdown",
   "metadata": {},
   "source": [
    "# Test AffineInterp Class"
   ]
  },
  {
   "cell_type": "code",
   "execution_count": 2,
   "metadata": {},
   "outputs": [
    {
     "name": "stdout",
     "output_type": "stream",
     "text": [
      "tensor(1.7881e-07, device='cuda:0') tensor(2.3500e-08, device='cuda:0')\n",
      "tensor(0., device='cuda:0') tensor(0., device='cuda:0')\n",
      "tensor(5.0664e-06, device='cuda:0') tensor(2.0142e-07, device='cuda:0')\n",
      "tensor(6.6757e-06, device='cuda:0') tensor(1.4222e-07, device='cuda:0')\n",
      "tensor(5.0664e-06, device='cuda:0') tensor(5.1768e-08, device='cuda:0')\n",
      "tensor(5.9754e-06, device='cuda:0') tensor(3.8187e-07, device='cuda:0')\n",
      "<class 'torch.Tensor'> <class 'torch.Tensor'> <class 'torch.Tensor'> <class 'torch.Tensor'>\n"
     ]
    }
   ],
   "source": [
    "batch_size = 500\n",
    "\n",
    "def test_affine_interp():\n",
    "    interp = AffineInterp('ddim') # Change this into [\"ddim\", \"straight\", \"sin\"]\n",
    "    t = torch.rand((batch_size,), device=device)\n",
    "    X_0 = torch.rand((batch_size, 3, 4, 2, 3), device=device)\n",
    "    X_1 = torch.rand((batch_size, 3, 4, 2, 3), device=device)\n",
    "    X_t, dot_X_t = interp(X_0, X_1, t)\n",
    "\n",
    "    interp.solve(t, xt=X_t, dot_xt=dot_X_t)\n",
    "    print(torch.max(torch.abs(interp.x0 - X_0)), torch.mean(torch.abs(interp.x1 - X_1)))\n",
    "    \n",
    "    interp.solve(t, x0=X_0, x1=X_1)\n",
    "    print(torch.max(torch.abs(interp.xt - X_t)), torch.mean(torch.abs(interp.dot_xt - dot_X_t)))\n",
    "    \n",
    "    interp.solve(t, xt=X_t, x1=X_1)\n",
    "    print(torch.max(torch.abs(interp.x0 - X_0)), torch.mean(torch.abs(interp.dot_xt - dot_X_t)))\n",
    "    \n",
    "    interp.solve(t, x0=X_0, xt=X_t)\n",
    "    print(torch.max(torch.abs(interp.x1 - X_1)), torch.mean(torch.abs(interp.dot_xt - dot_X_t)))\n",
    "    \n",
    "    interp.solve(t, x0=X_0, dot_xt=dot_X_t)\n",
    "    print(torch.max(torch.abs(interp.x1 - X_1)), torch.mean(torch.abs(interp.xt - X_t)))\n",
    "    \n",
    "    interp.solve(t, x1=X_1, dot_xt=dot_X_t)\n",
    "    print(torch.max(torch.abs(interp.x0 - X_0)), torch.mean(torch.abs(interp.xt - X_t)))\n",
    "    \n",
    "    print(type(interp.x0), type(interp.x1), type(interp.xt), type(interp.dot_xt))\n",
    "\n",
    "test_affine_interp()"
   ]
  },
  {
   "cell_type": "markdown",
   "metadata": {},
   "source": [
    "# Test Rectified Flow Functions"
   ]
  },
  {
   "cell_type": "code",
   "execution_count": 3,
   "metadata": {},
   "outputs": [],
   "source": [
    "from models.dit import DiT, DiTConfig\n",
    "from rectified_flow.rectified_flow import RectifiedFlow\n",
    "\n",
    "DiT_reshaper_config = DiTConfig(\n",
    "        input_size = 32,\n",
    "        patch_size = 2,\n",
    "        in_channels = 3,\n",
    "        out_channels = 3,\n",
    "        hidden_size = 128,\n",
    "        depth = 5,\n",
    "        num_heads = 4,\n",
    "        mlp_ratio = 2,\n",
    "        num_classes = 0,\n",
    "        use_long_skip = False,\n",
    "        final_conv = False,\n",
    "    )"
   ]
  },
  {
   "cell_type": "code",
   "execution_count": 4,
   "metadata": {},
   "outputs": [],
   "source": [
    "dit_toy = DiT(DiT_reshaper_config).to(device)\n",
    "\n",
    "rf_func = RectifiedFlow(\n",
    "    data_shape=(3, 32, 32),\n",
    "    model=dit_toy,\n",
    "    interp=\"straight\",\n",
    "    noise_distribution=\"normal\",\n",
    "    is_independent_coupling=True,\n",
    "    train_time_distribution=\"uniform\",\n",
    "    train_time_weight=\"uniform\",\n",
    "    criterion=\"mse\",\n",
    "    device=device,\n",
    "    dtype=torch.float32,\n",
    ")"
   ]
  },
  {
   "cell_type": "code",
   "execution_count": null,
   "metadata": {},
   "outputs": [
    {
     "name": "stdout",
     "output_type": "stream",
     "text": [
      "X_0: torch.Size([64, 3, 32, 32]), X_1: torch.Size([64, 3, 32, 32])\n",
      "t: torch.Size([64])\n",
      "X_t device: cuda:0, dot_X_t device: cuda:0, t device: cuda:0\n",
      "velocity: torch.Size([64, 3, 32, 32])\n",
      "loss: 1.9925508499145508\n",
      "Max diff: 0.0\n"
     ]
    }
   ],
   "source": [
    "batch_size = 64\n",
    "\n",
    "X_0 = rf_func.sample_noise(batch_size)\n",
    "X_1 = torch.ones((batch_size, *rf_func.data_shape), device=device) # Sampled from data class\n",
    "print(f\"X_0: {X_0.shape}, X_1: {X_1.shape}\")\n",
    "\n",
    "t = rf_func.sample_time(batch_size)\n",
    "print(f\"t: {t.shape}\")\n",
    "\n",
    "with torch.no_grad():\n",
    "\tX_t, dot_X_t = rf_func.get_interpolation(X_0, X_1, t)\n",
    "\t# print(f\"X_t: {X_t}, dot_X_t: {dot_X_t}\")\n",
    "\tprint(f\"X_t device: {X_t.device}, dot_X_t device: {dot_X_t.device}, t device: {t.device}\")\n",
    "\n",
    "\tvelocity = rf_func.get_velocity(X_t, t)\n",
    "\tprint(f\"velocity: {velocity.shape}\")\n",
    "\n",
    "\tloss = rf_func.get_loss(X_0, X_1)\n",
    "\tprint(f\"loss: {loss}\")\n",
    "\n",
    "\tscore1 = rf_func.get_score_function_from_velocity(X_t, velocity, t)\n",
    "\tscore2 = rf_func.get_score_function(X_t, t)\n",
    "\tprint(f\"Max diff: {torch.max(torch.abs(score1 - score2))}\")"
   ]
  }
 ],
 "metadata": {
  "kernelspec": {
   "display_name": "base",
   "language": "python",
   "name": "python3"
  },
  "language_info": {
   "codemirror_mode": {
    "name": "ipython",
    "version": 3
   },
   "file_extension": ".py",
   "mimetype": "text/x-python",
   "name": "python",
   "nbconvert_exporter": "python",
   "pygments_lexer": "ipython3",
   "version": "3.12.3"
  }
 },
 "nbformat": 4,
 "nbformat_minor": 2
}
