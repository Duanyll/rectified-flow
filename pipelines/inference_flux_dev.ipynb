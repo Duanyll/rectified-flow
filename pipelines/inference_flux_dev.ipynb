{
 "cells": [
  {
   "cell_type": "code",
   "execution_count": null,
   "metadata": {},
   "outputs": [],
   "source": [
    "import torch\n",
    "import math\n",
    "import matplotlib.pyplot as plt\n",
    "import sys\n",
    "import os\n",
    "\n",
    "from PIL import Image\n",
    "from diffusers import FluxPipeline\n",
    "from torch import Tensor\n",
    "from torchvision import transforms\n",
    "\n",
    "sys.path.append(os.path.abspath(os.path.join(os.getcwd(), '..')))\n",
    "\n",
    "DTYPE = torch.bfloat16\n",
    "device = torch.device(\"cuda\" if torch.cuda.is_available() else \"cpu\")\n",
    "\n",
    "pipe = FluxPipeline.from_pretrained(\"/root/autodl-tmp/Flux-dev\", torch_dtype=DTYPE)\n",
    "pipe.to(device)"
   ]
  },
  {
   "cell_type": "code",
   "execution_count": null,
   "metadata": {},
   "outputs": [],
   "source": [
    "from models.flux_dev import FluxWrapper, encode_imgs, decode_imgs, get_time_grid, prepare_packed_latents\n",
    "\n",
    "height = 1024\n",
    "width = 1024\n",
    "height = 16 * (height // 16)\n",
    "width = 16 * (width // 16)\n",
    "\n",
    "packed_latents, latent_img_ids = prepare_packed_latents(\n",
    "    batch_size=1,\n",
    "\theight=height,\n",
    "\twidth=width,\n",
    "    dtype=DTYPE,\n",
    "    device=device,\n",
    ")\n",
    "\n",
    "img_seq_len = packed_latents.shape[1]\n",
    "\n",
    "time_grid = get_time_grid(\n",
    "    num_steps=50,\n",
    "    image_seq_len=img_seq_len,\n",
    ")\n",
    "\n",
    "time_grid = [1.0 - t for t in time_grid]\n",
    "\n",
    "flux_model = FluxWrapper(\n",
    "    pipeline=pipe,\n",
    "    latent_image_ids=latent_img_ids,\n",
    "    DTYPE=DTYPE,\n",
    "    device=device,\n",
    ")"
   ]
  },
  {
   "cell_type": "code",
   "execution_count": null,
   "metadata": {},
   "outputs": [],
   "source": [
    "from rectified_flow.rectified_flow import RectifiedFlow\n",
    "\n",
    "rf_func = RectifiedFlow(\n",
    "    data_shape=packed_latents.shape,\n",
    "    model=flux_model,\n",
    "    interp=\"straight\",\n",
    "    device=device,\n",
    "\tdtype=DTYPE,\n",
    ")"
   ]
  },
  {
   "cell_type": "code",
   "execution_count": null,
   "metadata": {},
   "outputs": [],
   "source": [
    "from rectified_flow.samplers import EulerSampler\n",
    "\n",
    "euler_sampler = EulerSampler(\n",
    "    rectified_flow=rf_func,\n",
    "    num_steps=100,\n",
    ")\n",
    "\n",
    "euler_sampler.sample_loop(\n",
    "    X_0=packed_latents,\n",
    "    time_grid=time_grid,\n",
    "    prompt=\"A photo of a cat holding a camera\",\n",
    "    guidance_scale=3.5,\n",
    ")"
   ]
  }
 ],
 "metadata": {
  "kernelspec": {
   "display_name": "base",
   "language": "python",
   "name": "python3"
  },
  "language_info": {
   "codemirror_mode": {
    "name": "ipython",
    "version": 3
   },
   "file_extension": ".py",
   "mimetype": "text/x-python",
   "name": "python",
   "nbconvert_exporter": "python",
   "pygments_lexer": "ipython3",
   "version": "3.12.3"
  }
 },
 "nbformat": 4,
 "nbformat_minor": 2
}
