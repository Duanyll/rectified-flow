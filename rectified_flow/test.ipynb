{
 "cells": [
  {
   "cell_type": "code",
   "execution_count": 1,
   "metadata": {},
   "outputs": [],
   "source": [
    "import torch\n",
    "from rectified_flow import AffineInterp, match_time_dim_with_data\n",
    "\n",
    "device = \"mps\""
   ]
  },
  {
   "cell_type": "code",
   "execution_count": 3,
   "metadata": {},
   "outputs": [
    {
     "name": "stdout",
     "output_type": "stream",
     "text": [
      "tensor(1.7881e-07, device='mps:0') tensor(2.8498e-08, device='mps:0')\n",
      "tensor(0., device='mps:0') tensor(0., device='mps:0')\n",
      "tensor(3.5763e-07, device='mps:0') tensor(1.0320e-07, device='mps:0')\n",
      "tensor(3.6508e-06, device='mps:0') tensor(1.7057e-07, device='mps:0')\n",
      "tensor(1.7881e-07, device='mps:0') tensor(3.5225e-08, device='mps:0')\n",
      "tensor(6.2287e-06, device='mps:0') tensor(8.4550e-07, device='mps:0')\n",
      "<class 'torch.Tensor'> <class 'torch.Tensor'> <class 'torch.Tensor'> <class 'torch.Tensor'>\n"
     ]
    }
   ],
   "source": [
    "batch_size = 10\n",
    "\n",
    "def test_affine_interp():\n",
    "    interp = AffineInterp('ddim')\n",
    "    t = torch.rand((batch_size,), device=device)\n",
    "    X_0 = torch.rand((batch_size, 3, 4, 2, 3), device=device)\n",
    "    X_1 = torch.rand((batch_size, 3, 4, 2, 3), device=device)\n",
    "    X_t, dot_X_t = interp(X_0, X_1, t)\n",
    "\n",
    "    interp.solve(t, xt=X_t, dot_xt=dot_X_t)\n",
    "    print(torch.max(torch.abs(interp.x0 - X_0)), torch.mean(torch.abs(interp.x1 - X_1)))\n",
    "    \n",
    "    interp.solve(t, x0=X_0, x1=X_1)\n",
    "    print(torch.max(torch.abs(interp.xt - X_t)), torch.mean(torch.abs(interp.dot_xt - dot_X_t)))\n",
    "    \n",
    "    interp.solve(t, xt=X_t, x1=X_1)\n",
    "    print(torch.max(torch.abs(interp.x0 - X_0)), torch.mean(torch.abs(interp.dot_xt - dot_X_t)))\n",
    "    \n",
    "    interp.solve(t, x0=X_0, xt=X_t)\n",
    "    print(torch.max(torch.abs(interp.x1 - X_1)), torch.mean(torch.abs(interp.dot_xt - dot_X_t)))\n",
    "    \n",
    "    interp.solve(t, x0=X_0, dot_xt=dot_X_t)\n",
    "    print(torch.max(torch.abs(interp.x1 - X_1)), torch.mean(torch.abs(interp.xt - X_t)))\n",
    "    \n",
    "    interp.solve(t, x1=X_1, dot_xt=dot_X_t)\n",
    "    print(torch.max(torch.abs(interp.x0 - X_0)), torch.mean(torch.abs(interp.xt - X_t)))\n",
    "    \n",
    "    print(type(interp.x0), type(interp.x1), type(interp.xt), type(interp.dot_xt))\n",
    "\n",
    "test_affine_interp()"
   ]
  }
 ],
 "metadata": {
  "kernelspec": {
   "display_name": "learning",
   "language": "python",
   "name": "python3"
  },
  "language_info": {
   "codemirror_mode": {
    "name": "ipython",
    "version": 3
   },
   "file_extension": ".py",
   "mimetype": "text/x-python",
   "name": "python",
   "nbconvert_exporter": "python",
   "pygments_lexer": "ipython3",
   "version": "3.10.15"
  }
 },
 "nbformat": 4,
 "nbformat_minor": 2
}
