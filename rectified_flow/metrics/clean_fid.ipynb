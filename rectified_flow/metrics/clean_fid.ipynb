{
 "cells": [
  {
   "cell_type": "code",
   "execution_count": null,
   "metadata": {},
   "outputs": [],
   "source": [
    "from cleanfid import fid\n",
    "# FID with CIFAR10 training set\n",
    "data_dir = \"\"\n",
    "fid_score = fid.compute_fid(data_dir, dataset_name=\"cifar10\", dataset_res=32, dataset_split=\"train\", mode=\"clean\", batch_size=100)\n",
    "print(f\"Clean FID score for {data_dir}: {fid_score}\")"
   ]
  },
  {
   "cell_type": "code",
   "execution_count": null,
   "metadata": {},
   "outputs": [],
   "source": [
    "from cleanfid import fid\n",
    "# FID with CIFAR10 training set, legacy version\n",
    "data_dir = \"\"\n",
    "fid_score = fid.compute_fid(data_dir, dataset_name=\"cifar10\", dataset_res=32, dataset_split=\"train\", mode=\"legacy_pytorch\", batch_size=100)\n",
    "print(f\"Legacy FID score for {data_dir}: {fid_score}\")"
   ]
  }
 ],
 "metadata": {
  "kernelspec": {
   "display_name": "base",
   "language": "python",
   "name": "python3"
  },
  "language_info": {
   "codemirror_mode": {
    "name": "ipython",
    "version": 3
   },
   "file_extension": ".py",
   "mimetype": "text/x-python",
   "name": "python",
   "nbconvert_exporter": "python",
   "pygments_lexer": "ipython3",
   "version": "3.12.3"
  }
 },
 "nbformat": 4,
 "nbformat_minor": 2
}
