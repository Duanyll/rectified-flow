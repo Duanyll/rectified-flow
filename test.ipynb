{
 "cells": [
  {
   "cell_type": "code",
   "execution_count": 1,
   "metadata": {},
   "outputs": [],
   "source": [
    "import torch\n",
    "from rectified_flow.rectified_flow import AffineInterp, match_time_dim_with_data\n",
    "\n",
    "device = torch.device(\"cuda\")"
   ]
  },
  {
   "cell_type": "markdown",
   "metadata": {},
   "source": [
    "# Test AffineInterp Class"
   ]
  },
  {
   "cell_type": "code",
   "execution_count": 2,
   "metadata": {},
   "outputs": [
    {
     "name": "stdout",
     "output_type": "stream",
     "text": [
      "tensor(2.3842e-07, device='cuda:0') tensor(2.3848e-08, device='cuda:0')\n",
      "tensor(0., device='cuda:0') tensor(0., device='cuda:0')\n",
      "tensor(3.9153e-06, device='cuda:0') tensor(2.0821e-07, device='cuda:0')\n",
      "tensor(7.2122e-06, device='cuda:0') tensor(1.4193e-07, device='cuda:0')\n",
      "tensor(4.1127e-06, device='cuda:0') tensor(5.3170e-08, device='cuda:0')\n",
      "tensor(7.6294e-06, device='cuda:0') tensor(4.0390e-07, device='cuda:0')\n",
      "<class 'torch.Tensor'> <class 'torch.Tensor'> <class 'torch.Tensor'> <class 'torch.Tensor'>\n"
     ]
    }
   ],
   "source": [
    "batch_size = 500\n",
    "\n",
    "def test_affine_interp():\n",
    "    interp = AffineInterp('ddim') # Change this into [\"ddim\", \"straight\", \"sin\"]\n",
    "    t = torch.rand((batch_size,), device=device)\n",
    "    X_0 = torch.rand((batch_size, 3, 4, 2, 3), device=device)\n",
    "    X_1 = torch.rand((batch_size, 3, 4, 2, 3), device=device)\n",
    "    X_t, dot_X_t = interp(X_0, X_1, t)\n",
    "\n",
    "    interp.solve(t, xt=X_t, dot_xt=dot_X_t)\n",
    "    print(torch.max(torch.abs(interp.x0 - X_0)), torch.mean(torch.abs(interp.x1 - X_1)))\n",
    "    \n",
    "    interp.solve(t, x0=X_0, x1=X_1)\n",
    "    print(torch.max(torch.abs(interp.xt - X_t)), torch.mean(torch.abs(interp.dot_xt - dot_X_t)))\n",
    "    \n",
    "    interp.solve(t, xt=X_t, x1=X_1)\n",
    "    print(torch.max(torch.abs(interp.x0 - X_0)), torch.mean(torch.abs(interp.dot_xt - dot_X_t)))\n",
    "    \n",
    "    interp.solve(t, x0=X_0, xt=X_t)\n",
    "    print(torch.max(torch.abs(interp.x1 - X_1)), torch.mean(torch.abs(interp.dot_xt - dot_X_t)))\n",
    "    \n",
    "    interp.solve(t, x0=X_0, dot_xt=dot_X_t)\n",
    "    print(torch.max(torch.abs(interp.x1 - X_1)), torch.mean(torch.abs(interp.xt - X_t)))\n",
    "    \n",
    "    interp.solve(t, x1=X_1, dot_xt=dot_X_t)\n",
    "    print(torch.max(torch.abs(interp.x0 - X_0)), torch.mean(torch.abs(interp.xt - X_t)))\n",
    "    \n",
    "    print(type(interp.x0), type(interp.x1), type(interp.xt), type(interp.dot_xt))\n",
    "\n",
    "test_affine_interp()"
   ]
  },
  {
   "cell_type": "markdown",
   "metadata": {},
   "source": [
    "# Test Rectified Flow Functions"
   ]
  },
  {
   "cell_type": "code",
   "execution_count": 3,
   "metadata": {},
   "outputs": [],
   "source": [
    "from models.dit import DiT, DiTConfig\n",
    "from rectified_flow.rectified_flow import RectifiedFlow\n",
    "\n",
    "DiT_reshaper_config = DiTConfig(\n",
    "        input_size = 32,\n",
    "        patch_size = 2,\n",
    "        in_channels = 3,\n",
    "        out_channels = 3,\n",
    "        hidden_size = 128,\n",
    "        depth = 5,\n",
    "        num_heads = 4,\n",
    "        mlp_ratio = 2,\n",
    "        num_classes = 0,\n",
    "        use_long_skip = False,\n",
    "        final_conv = False,\n",
    "    )"
   ]
  },
  {
   "cell_type": "code",
   "execution_count": 4,
   "metadata": {},
   "outputs": [],
   "source": [
    "dit_toy = DiT(DiT_reshaper_config).to(device)\n",
    "\n",
    "rf_func = RectifiedFlow(\n",
    "    flow_model=dit_toy,\n",
    "    interp_func=\"straight\",\n",
    "    time_dist=\"uniform\",\n",
    "    time_weight=\"uniform\",\n",
    "    criterion=\"mse\",\n",
    "    device=device,\n",
    "    dtype=torch.float32,\n",
    ")"
   ]
  },
  {
   "cell_type": "code",
   "execution_count": 5,
   "metadata": {},
   "outputs": [
    {
     "name": "stdout",
     "output_type": "stream",
     "text": [
      "X_t device: cuda:0, dot_X_t device: cuda:0, t device: cuda:0\n",
      "X device: cuda:0, t device: cuda:0\n",
      "velocity: torch.Size([64, 3, 32, 32])\n",
      "X device: cuda:0, t device: cuda:0\n",
      "X_t shape: torch.Size([64, 3, 32, 32]), dot_Xt shape: torch.Size([64, 3, 32, 32]), v_t shape: torch.Size([64, 3, 32, 32]), wts shape: torch.Size([64])\n",
      "loss: 1.0\n"
     ]
    }
   ],
   "source": [
    "batch_size = 64\n",
    "\n",
    "X_0 = torch.zeros((batch_size, 3, 32, 32), device=device)\n",
    "X_1 = torch.ones((batch_size, 3, 32, 32), device=device)\n",
    "t = torch.rand((batch_size,), device=device)\n",
    "\n",
    "with torch.no_grad():\n",
    "\tX_t, dot_X_t = rf_func.get_interpolation(X_0, X_1, t)\n",
    "\t# print(f\"X_t: {X_t}, dot_X_t: {dot_X_t}\")\n",
    "\tprint(f\"X_t device: {X_t.device}, dot_X_t device: {dot_X_t.device}, t device: {t.device}\")\n",
    "\tvelocity = rf_func.get_velocity(X_t, t)\n",
    "\tprint(f\"velocity: {velocity.shape}\")\n",
    "\n",
    "\tloss = rf_func.get_loss(X_0, X_1)\n",
    "\tprint(f\"loss: {loss}\")\n",
    "\n"
   ]
  }
 ],
 "metadata": {
  "kernelspec": {
   "display_name": "base",
   "language": "python",
   "name": "python3"
  },
  "language_info": {
   "codemirror_mode": {
    "name": "ipython",
    "version": 3
   },
   "file_extension": ".py",
   "mimetype": "text/x-python",
   "name": "python",
   "nbconvert_exporter": "python",
   "pygments_lexer": "ipython3",
   "version": "3.12.3"
  }
 },
 "nbformat": 4,
 "nbformat_minor": 2
}
